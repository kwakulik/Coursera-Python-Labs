{
 "cells": [
  {
   "cell_type": "markdown",
   "metadata": {},
   "source": [
    "<center>\n",
    "    <img src=\"https://cf-courses-data.s3.us.cloud-object-storage.appdomain.cloud/IBMDeveloperSkillsNetwork-DS0105EN-SkillsNetwork/labs/Module2/images/SN_web_lightmode.png\" width=\"300\" alt=\"cognitiveclass.ai logo\">\n",
    "</center>\n"
   ]
  },
  {
   "cell_type": "markdown",
   "metadata": {},
   "source": [
    "## Exercise 2: Create Markdown Cell with Title"
   ]
  },
  {
   "cell_type": "markdown",
   "metadata": {
    "tags": []
   },
   "source": [
    "### Data Science Tools and Ecosystem"
   ]
  },
  {
   "cell_type": "markdown",
   "metadata": {},
   "source": [
    "-----------------------------------------------------------------------------------"
   ]
  },
  {
   "cell_type": "markdown",
   "metadata": {},
   "source": [
    "## Exercise 3: Create Markdown Cell for Introduction"
   ]
  },
  {
   "cell_type": "markdown",
   "metadata": {},
   "source": [
    "In this notebook, Data Science Tools and Ecosystem are summarized"
   ]
  },
  {
   "cell_type": "markdown",
   "metadata": {},
   "source": [
    "-----------------------------------------------------------------------------------"
   ]
  },
  {
   "cell_type": "markdown",
   "metadata": {},
   "source": [
    "## Exercise 4: List Data Science Languages"
   ]
  },
  {
   "cell_type": "markdown",
   "metadata": {},
   "source": [
    "Some of the popular languages that Data Scientists use are:"
   ]
  },
  {
   "cell_type": "markdown",
   "metadata": {},
   "source": [
    "1. Python\n",
    "2. R\n",
    "3. SQL\n",
    "4. Java\n",
    "5. Scala\n",
    "6. Julia\n",
    "7. MATLAB\n",
    "8. JavaScript\n",
    "9. C++"
   ]
  },
  {
   "cell_type": "code",
   "execution_count": null,
   "metadata": {
    "tags": []
   },
   "outputs": [],
   "source": [
    "languages = [\n",
    "    \"Python\", \n",
    "    \"R\", \n",
    "    \"SQL\", \n",
    "    \"Java\", \n",
    "    \"Scala\", \n",
    "    \"Julia\", \n",
    "    \"MATLAB\", \n",
    "    \"JavaScript\", \n",
    "    \"C++\"\n",
    "]\n",
    "\n",
    "# Creating an ordered list in text format\n",
    "for i, language in enumerate(languages, start=1):\n",
    "    print(f\"{i}. {language}\")"
   ]
  },
  {
   "cell_type": "markdown",
   "metadata": {
    "tags": []
   },
   "source": [
    "-----------------------------------------------------------------------------------"
   ]
  },
  {
   "cell_type": "markdown",
   "metadata": {
    "tags": []
   },
   "source": [
    "## Exercise 5: List Data Science Libraries"
   ]
  },
  {
   "cell_type": "markdown",
   "metadata": {},
   "source": [
    "Some of the commonly used libraries used by Data Scientists include:"
   ]
  },
  {
   "cell_type": "markdown",
   "metadata": {
    "tags": []
   },
   "source": [
    "#### 8 Most Used Data Science Libraries\n",
    "\n",
    "1. **NumPy**: For numerical operations\n",
    "2. **Pandas**: For data manipulation and analysis\n",
    "3. **Matplotlib**: For data visualization\n",
    "4. **Seaborn**: For statistical data visualization\n",
    "5. **Scikit-learn**: For machine learning\n",
    "6. **TensorFlow**: For deep learning\n",
    "7. **Keras**: For neural networks and deep learning\n",
    "8. **SciPy**: For scientific computing\n"
   ]
  },
  {
   "cell_type": "code",
   "execution_count": null,
   "metadata": {},
   "outputs": [],
   "source": [
    "# List of 8 most used data science libraries\n",
    "data_science_libraries = [\n",
    "    \"NumPy\",        # For numerical operations\n",
    "    \"Pandas\",       # For data manipulation and analysis\n",
    "    \"Matplotlib\",   # For data visualization\n",
    "    \"Seaborn\",      # For statistical data visualization\n",
    "    \"Scikit-learn\", # For machine learning\n",
    "    \"TensorFlow\",   # For deep learning\n",
    "    \"Keras\",        # For neural networks and deep learning\n",
    "    \"SciPy\"         # For scientific computing\n",
    "]\n",
    "\n",
    "# Printing the list\n",
    "print(\"8 Most Used Data Science Libraries:\")\n",
    "for library in data_science_libraries:\n",
    "    print(f\"- {library}\")\n"
   ]
  },
  {
   "cell_type": "markdown",
   "metadata": {
    "tags": []
   },
   "source": [
    "-----------------------------------------------------------------------------------"
   ]
  },
  {
   "cell_type": "markdown",
   "metadata": {},
   "source": [
    "## Exercise 6: Data Science Tools Table"
   ]
  },
  {
   "cell_type": "markdown",
   "metadata": {},
   "source": [
    "| Tool          | Description                                           | Primary Use Case        |\n",
    "|---------------|-------------------------------------------------------|-------------------------|\n",
    "| Jupyter       | Interactive computing and data visualization platform | Data analysis in Python |\n",
    "| RStudio       | IDE for R programming language                        | Data analysis in R      |\n",
    "| Colab         | Google's cloud-based data science workspace           | Python notebooks        |\n",
    "| PyCharm       | Python IDE with many features                         | Python development      |\n",
    "| Visual Studio Code | Code editor with wide language support            | General programming     |\n",
    "| Spyder        | Python IDE with advanced editing and debugging tools | Scientific development  |\n",
    "| MATLAB        | High-level language and interactive environment      | Engineering, mathematics|\n",
    "| Tableau       | Data visualization tool                               | Business intelligence   |\n"
   ]
  },
  {
   "cell_type": "markdown",
   "metadata": {},
   "source": [
    "-----------------------------------------------------------------------------------"
   ]
  },
  {
   "cell_type": "markdown",
   "metadata": {},
   "source": [
    "## Exercise 7: Introduce Arithmetic Expression Examples"
   ]
  },
  {
   "cell_type": "markdown",
   "metadata": {},
   "source": [
    "### Below are a few examples of evaluating arithmetic expressions in Python."
   ]
  },
  {
   "cell_type": "markdown",
   "metadata": {},
   "source": [
    "#### Subtraction"
   ]
  },
  {
   "cell_type": "code",
   "execution_count": null,
   "metadata": {
    "tags": []
   },
   "outputs": [],
   "source": [
    "result = 10 - 2\n",
    "print(result)  # Output: 8"
   ]
  },
  {
   "cell_type": "markdown",
   "metadata": {},
   "source": [
    "#### Multiplication"
   ]
  },
  {
   "cell_type": "code",
   "execution_count": null,
   "metadata": {},
   "outputs": [],
   "source": [
    "result = 4 * 2\n",
    "print(result)  # Output: 8"
   ]
  },
  {
   "cell_type": "markdown",
   "metadata": {
    "tags": []
   },
   "source": [
    "#### Division"
   ]
  },
  {
   "cell_type": "code",
   "execution_count": null,
   "metadata": {},
   "outputs": [],
   "source": [
    "result = 16 / 2\n",
    "print(result)  # Output: 8.0"
   ]
  },
  {
   "cell_type": "markdown",
   "metadata": {},
   "source": [
    "#### Integer Division (Floor Division)"
   ]
  },
  {
   "cell_type": "code",
   "execution_count": null,
   "metadata": {},
   "outputs": [],
   "source": [
    "result = 17 // 2\n",
    "print(result)  # Output: 8"
   ]
  },
  {
   "cell_type": "markdown",
   "metadata": {},
   "source": [
    "#### Modulo Operation (Remainder after Division)"
   ]
  },
  {
   "cell_type": "code",
   "execution_count": null,
   "metadata": {},
   "outputs": [],
   "source": [
    "result = 18 % 10\n",
    "print(result)  # Output: 8"
   ]
  },
  {
   "cell_type": "markdown",
   "metadata": {},
   "source": [
    "#### Exponentiation"
   ]
  },
  {
   "cell_type": "code",
   "execution_count": null,
   "metadata": {
    "tags": []
   },
   "outputs": [],
   "source": [
    "result = 2 ** 3\n",
    "print(result)  # Output: 8"
   ]
  },
  {
   "cell_type": "markdown",
   "metadata": {},
   "source": [
    "#### Complex Expressions"
   ]
  },
  {
   "cell_type": "code",
   "execution_count": null,
   "metadata": {
    "tags": []
   },
   "outputs": [],
   "source": [
    "result = (3 + 5) * 2 - (4 / 2)\n",
    "print(result)  # Output: 14.0"
   ]
  },
  {
   "cell_type": "markdown",
   "metadata": {},
   "source": [
    "-----------------------------------------------------------------------------------"
   ]
  },
  {
   "cell_type": "markdown",
   "metadata": {},
   "source": [
    "## Exercise 8: Multiply and Add Numbers\n"
   ]
  },
  {
   "cell_type": "markdown",
   "metadata": {},
   "source": [
    "# This a simple arithmetic expression to multiply then add integers"
   ]
  },
  {
   "cell_type": "code",
   "execution_count": null,
   "metadata": {
    "tags": []
   },
   "outputs": [],
   "source": [
    "result = (3*4) + 5\n",
    "print(result) # Output: 17"
   ]
  },
  {
   "cell_type": "markdown",
   "metadata": {},
   "source": [
    "-----------------------------------------------------------------------------------"
   ]
  },
  {
   "cell_type": "markdown",
   "metadata": {},
   "source": [
    "## Exercise 9: Convert Minutes to Hours"
   ]
  },
  {
   "cell_type": "markdown",
   "metadata": {},
   "source": [
    "# This will convert 200 minutes to hours by dividing by 60"
   ]
  },
  {
   "cell_type": "code",
   "execution_count": null,
   "metadata": {
    "tags": []
   },
   "outputs": [],
   "source": [
    "hours = 200 / 60\n",
    "print(hours) # Output: 3.3333333333333335"
   ]
  },
  {
   "cell_type": "markdown",
   "metadata": {},
   "source": [
    "-----------------------------------------------------------------------------------"
   ]
  },
  {
   "cell_type": "markdown",
   "metadata": {},
   "source": [
    "## Exercise 10: List Objectives"
   ]
  },
  {
   "cell_type": "markdown",
   "metadata": {},
   "source": [
    "**Objectives:**"
   ]
  },
  {
   "cell_type": "markdown",
   "metadata": {},
   "source": [
    "- **Understanding Jupyter Notebooks:** \n",
    "  - This exercise helps in familiarizing with the Jupyter Notebook environment, an essential tool for many data scientists. It demonstrates how to create and manage cells, both code and markdown.\n",
    "\n",
    "- **Markdown Proficiency:**\n",
    "  - The exercise enhances markdown skills, crucial for documenting and explaining code. Markdown is used for creating formatted text, lists, headers, and even embedding images and links, making it a valuable tool for clear communication in data science projects.\n",
    "\n",
    "- **Basic Python Coding:**\n",
    "  - Although the focus is more on markdown, the exercise also involves running simple Python code. This is fundamental for data science, as Python is one of the key languages used in the field.\n",
    "\n",
    "- **Data Science Tools and Languages:**\n",
    "  - The exercise provides an overview of popular programming languages and tools in data science, like Python, R, SQL, and libraries such as Pandas and NumPy. This knowledge is crucial for anyone looking to enter the field of data science.\n",
    "\n",
    "- **Workflow Integration:**\n",
    "  - The task of saving, downloading, and uploading the notebook to GitHub teaches essential skills in version control and code sharing, which are integral parts of collaborative data science and software development workflows.\n"
   ]
  },
  {
   "cell_type": "markdown",
   "metadata": {
    "tags": []
   },
   "source": [
    "-----------------------------------------------------------------------------------"
   ]
  },
  {
   "cell_type": "markdown",
   "metadata": {},
   "source": [
    "## Exercise 11: Author's Name"
   ]
  },
  {
   "cell_type": "markdown",
   "metadata": {},
   "source": [
    "## Author\n",
    "Kamil Wakulik"
   ]
  },
  {
   "cell_type": "markdown",
   "metadata": {
    "tags": []
   },
   "source": [
    "-----------------------------------------------------------------------------------"
   ]
  },
  {
   "cell_type": "markdown",
   "metadata": {
    "tags": []
   },
   "source": [
    "## Exercise 12: Share Notebook on GitHub"
   ]
  },
  {
   "cell_type": "markdown",
   "metadata": {},
   "source": [
    "1. Save and download your notebook from the Jupyter environment.\n",
    "2. Create a public repository on GitHub and upload your notebook there.\n",
    "3. Keep the link to this GitHub repository handy."
   ]
  },
  {
   "cell_type": "markdown",
   "metadata": {},
   "source": [
    "-----------------------------------------------------------------------------------"
   ]
  },
  {
   "cell_type": "code",
   "execution_count": null,
   "metadata": {},
   "outputs": [],
   "source": []
  }
 ],
 "metadata": {
  "kernelspec": {
   "display_name": "Python",
   "language": "python",
   "name": "conda-env-python-py"
  },
  "language_info": {
   "codemirror_mode": {
    "name": "ipython",
    "version": 3
   },
   "file_extension": ".py",
   "mimetype": "text/x-python",
   "name": "python",
   "nbconvert_exporter": "python",
   "pygments_lexer": "ipython3",
   "version": "3.7.12"
  }
 },
 "nbformat": 4,
 "nbformat_minor": 4
}
